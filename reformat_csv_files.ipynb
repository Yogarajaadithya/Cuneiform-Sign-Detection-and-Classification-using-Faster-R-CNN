{
 "cells": [
  {
   "cell_type": "code",
   "execution_count": null,
   "id": "04f22b9b",
   "metadata": {},
   "outputs": [],
   "source": [
    "import numpy as np\n",
    "import os\n",
    "import pandas as pd"
   ]
  },
  {
   "cell_type": "code",
   "execution_count": null,
   "id": "4920044a",
   "metadata": {},
   "outputs": [
    {
     "name": "stdout",
     "output_type": "stream",
     "text": [
      "(20026, 7)\n",
      "2198\n"
     ]
    }
   ],
   "source": [
    "folder_path = 'segments'\n",
    "csv_files = [f for f in os.listdir(folder_path) if f.endswith('.csv')]\n",
    "\n",
    "combined_seg = pd.concat([pd.read_csv(os.path.join(folder_path, file)) for file in csv_files], ignore_index=True)"
   ]
  },
  {
   "cell_type": "code",
   "execution_count": null,
   "id": "aa0a18f6",
   "metadata": {},
   "outputs": [
    {
     "name": "stdout",
     "output_type": "stream",
     "text": [
      "(8282, 8)\n",
      "81\n"
     ]
    }
   ],
   "source": [
    "folder_path = 'annotations'\n",
    "csv_files = [f for f in os.listdir(folder_path) if f.endswith('.csv')]\n",
    "\n",
    "combined_annot = pd.concat([pd.read_csv(os.path.join(folder_path, file)) for file in csv_files], ignore_index=True)"
   ]
  },
  {
   "cell_type": "code",
   "execution_count": 5,
   "id": "6827152f",
   "metadata": {},
   "outputs": [],
   "source": [
    "reduced_seg = combined_seg[combined_seg['tablet_CDLI'].isin(combined_annot['tablet_CDLI'].unique())]"
   ]
  },
  {
   "cell_type": "code",
   "execution_count": 6,
   "id": "1481d9e4",
   "metadata": {},
   "outputs": [
    {
     "data": {
      "text/plain": [
       "0"
      ]
     },
     "execution_count": 6,
     "metadata": {},
     "output_type": "execute_result"
    }
   ],
   "source": [
    "len([item for item in reduced_seg['tablet_CDLI'].unique() if item not in combined_annot['tablet_CDLI'].unique()])"
   ]
  },
  {
   "cell_type": "code",
   "execution_count": null,
   "id": "716170db",
   "metadata": {},
   "outputs": [],
   "source": [
    "jpg_names = [os.path.splitext(f)[0] for f in os.listdir('images/combined') if f.lower().endswith('.jpg')]\n",
    "\n",
    "reduced_seg = reduced_seg[reduced_seg['tablet_CDLI'].isin(jpg_names)]\n",
    "combined_annot = combined_annot[combined_annot['tablet_CDLI'].isin(jpg_names)]"
   ]
  },
  {
   "cell_type": "code",
   "execution_count": 79,
   "id": "1340f9f1",
   "metadata": {},
   "outputs": [],
   "source": [
    "reduced_seg.to_csv('71_segments.csv', index=False)\n",
    "combined_annot.to_csv('bbox_71_annotations.csv', index=False)"
   ]
  }
 ],
 "metadata": {
  "kernelspec": {
   "display_name": "project123",
   "language": "python",
   "name": "python3"
  },
  "language_info": {
   "codemirror_mode": {
    "name": "ipython",
    "version": 3
   },
   "file_extension": ".py",
   "mimetype": "text/x-python",
   "name": "python",
   "nbconvert_exporter": "python",
   "pygments_lexer": "ipython3",
   "version": "3.12.3"
  }
 },
 "nbformat": 4,
 "nbformat_minor": 5
}
