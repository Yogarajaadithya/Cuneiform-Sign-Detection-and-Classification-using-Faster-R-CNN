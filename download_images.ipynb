{
 "cells": [
  {
   "cell_type": "code",
   "execution_count": null,
   "id": "5d43fac5",
   "metadata": {},
   "outputs": [],
   "source": [
    "import os\n",
    "import requests\n",
    "from urllib.parse import urlparse\n",
    "import pandas as pd"
   ]
  },
  {
   "cell_type": "code",
   "execution_count": 31,
   "id": "370a47a5",
   "metadata": {},
   "outputs": [],
   "source": [
    "selected_collection = 'test'\n",
    "anno_df = pd.read_csv('./annotations/bbox_annotations_{}_full.csv'.format(selected_collection))"
   ]
  },
  {
   "cell_type": "code",
   "execution_count": 32,
   "id": "8c5dfe6c",
   "metadata": {},
   "outputs": [
    {
     "data": {
      "text/plain": [
       "array(['K08396', 'P334926', 'ND02486', 'K09237Vs', 'P336150', 'P336158',\n",
       "       'P336128', 'BM099070', 'P334932', 'P335960', 'P335652', 'P335958',\n",
       "       'P335940', 'P335980', 'P335650', 'P335946', 'P335957', 'P335959',\n",
       "       'P336637', 'P335646', 'P335949', 'P335653', 'P335976', 'P335937',\n",
       "       'P335651', 'P336003', 'P335561', 'P336188', 'P335941', 'P335575',\n",
       "       'P336009', 'P336198', 'P335597', 'P335593'], dtype=object)"
      ]
     },
     "execution_count": 32,
     "metadata": {},
     "output_type": "execute_result"
    }
   ],
   "source": [
    "anno_df['tablet_CDLI'].unique()"
   ]
  },
  {
   "cell_type": "code",
   "execution_count": 33,
   "id": "3f14b32a",
   "metadata": {},
   "outputs": [],
   "source": [
    "image_urls = []\n",
    "\n",
    "for item in anno_df['tablet_CDLI'].unique():\n",
    "    image_url = 'https://cdli.ucla.edu/dl/photo/{}.jpg'.format(item)\n",
    "    image_urls.append(image_url)"
   ]
  },
  {
   "cell_type": "code",
   "execution_count": 34,
   "id": "8b050648",
   "metadata": {},
   "outputs": [
    {
     "name": "stdout",
     "output_type": "stream",
     "text": [
      "['https://cdli.ucla.edu/dl/photo/K08396.jpg', 'https://cdli.ucla.edu/dl/photo/P334926.jpg', 'https://cdli.ucla.edu/dl/photo/ND02486.jpg', 'https://cdli.ucla.edu/dl/photo/K09237Vs.jpg', 'https://cdli.ucla.edu/dl/photo/P336150.jpg', 'https://cdli.ucla.edu/dl/photo/P336158.jpg', 'https://cdli.ucla.edu/dl/photo/P336128.jpg', 'https://cdli.ucla.edu/dl/photo/BM099070.jpg', 'https://cdli.ucla.edu/dl/photo/P334932.jpg', 'https://cdli.ucla.edu/dl/photo/P335960.jpg', 'https://cdli.ucla.edu/dl/photo/P335652.jpg', 'https://cdli.ucla.edu/dl/photo/P335958.jpg', 'https://cdli.ucla.edu/dl/photo/P335940.jpg', 'https://cdli.ucla.edu/dl/photo/P335980.jpg', 'https://cdli.ucla.edu/dl/photo/P335650.jpg', 'https://cdli.ucla.edu/dl/photo/P335946.jpg', 'https://cdli.ucla.edu/dl/photo/P335957.jpg', 'https://cdli.ucla.edu/dl/photo/P335959.jpg', 'https://cdli.ucla.edu/dl/photo/P336637.jpg', 'https://cdli.ucla.edu/dl/photo/P335646.jpg', 'https://cdli.ucla.edu/dl/photo/P335949.jpg', 'https://cdli.ucla.edu/dl/photo/P335653.jpg', 'https://cdli.ucla.edu/dl/photo/P335976.jpg', 'https://cdli.ucla.edu/dl/photo/P335937.jpg', 'https://cdli.ucla.edu/dl/photo/P335651.jpg', 'https://cdli.ucla.edu/dl/photo/P336003.jpg', 'https://cdli.ucla.edu/dl/photo/P335561.jpg', 'https://cdli.ucla.edu/dl/photo/P336188.jpg', 'https://cdli.ucla.edu/dl/photo/P335941.jpg', 'https://cdli.ucla.edu/dl/photo/P335575.jpg', 'https://cdli.ucla.edu/dl/photo/P336009.jpg', 'https://cdli.ucla.edu/dl/photo/P336198.jpg', 'https://cdli.ucla.edu/dl/photo/P335597.jpg', 'https://cdli.ucla.edu/dl/photo/P335593.jpg']\n"
     ]
    }
   ],
   "source": [
    "print(image_urls)"
   ]
  },
  {
   "cell_type": "code",
   "execution_count": null,
   "id": "8fca795e",
   "metadata": {},
   "outputs": [
    {
     "name": "stdout",
     "output_type": "stream",
     "text": [
      "Failed to download https://cdli.ucla.edu/dl/photo/K08396.jpg: 404 Client Error: Not Found for url: https://cdli.earth/dl/photo/K08396.jpg\n",
      "Failed to download https://cdli.ucla.edu/dl/photo/ND02486.jpg: 404 Client Error: Not Found for url: https://cdli.earth/dl/photo/ND02486.jpg\n",
      "Failed to download https://cdli.ucla.edu/dl/photo/K09237Vs.jpg: 404 Client Error: Not Found for url: https://cdli.earth/dl/photo/K09237Vs.jpg\n",
      "Failed to download https://cdli.ucla.edu/dl/photo/BM099070.jpg: 404 Client Error: Not Found for url: https://cdli.earth/dl/photo/BM099070.jpg\n",
      "Downloaded successfully:\n",
      "['https://cdli.ucla.edu/dl/photo/P334926.jpg', 'https://cdli.ucla.edu/dl/photo/P336150.jpg', 'https://cdli.ucla.edu/dl/photo/P336158.jpg', 'https://cdli.ucla.edu/dl/photo/P336128.jpg', 'https://cdli.ucla.edu/dl/photo/P334932.jpg', 'https://cdli.ucla.edu/dl/photo/P335960.jpg', 'https://cdli.ucla.edu/dl/photo/P335652.jpg', 'https://cdli.ucla.edu/dl/photo/P335958.jpg', 'https://cdli.ucla.edu/dl/photo/P335940.jpg', 'https://cdli.ucla.edu/dl/photo/P335980.jpg', 'https://cdli.ucla.edu/dl/photo/P335650.jpg', 'https://cdli.ucla.edu/dl/photo/P335946.jpg', 'https://cdli.ucla.edu/dl/photo/P335957.jpg', 'https://cdli.ucla.edu/dl/photo/P335959.jpg', 'https://cdli.ucla.edu/dl/photo/P336637.jpg', 'https://cdli.ucla.edu/dl/photo/P335646.jpg', 'https://cdli.ucla.edu/dl/photo/P335949.jpg', 'https://cdli.ucla.edu/dl/photo/P335653.jpg', 'https://cdli.ucla.edu/dl/photo/P335976.jpg', 'https://cdli.ucla.edu/dl/photo/P335937.jpg', 'https://cdli.ucla.edu/dl/photo/P335651.jpg', 'https://cdli.ucla.edu/dl/photo/P336003.jpg', 'https://cdli.ucla.edu/dl/photo/P335561.jpg', 'https://cdli.ucla.edu/dl/photo/P336188.jpg', 'https://cdli.ucla.edu/dl/photo/P335941.jpg', 'https://cdli.ucla.edu/dl/photo/P335575.jpg', 'https://cdli.ucla.edu/dl/photo/P336009.jpg', 'https://cdli.ucla.edu/dl/photo/P336198.jpg', 'https://cdli.ucla.edu/dl/photo/P335597.jpg', 'https://cdli.ucla.edu/dl/photo/P335593.jpg']\n",
      "\n",
      "Failed to download:\n",
      "['https://cdli.ucla.edu/dl/photo/K08396.jpg', 'https://cdli.ucla.edu/dl/photo/ND02486.jpg', 'https://cdli.ucla.edu/dl/photo/K09237Vs.jpg', 'https://cdli.ucla.edu/dl/photo/BM099070.jpg']\n"
     ]
    }
   ],
   "source": [
    "# Output folder\n",
    "output_folder = 'images/{}'.format(selected_collection)\n",
    "os.makedirs(output_folder, exist_ok=True)\n",
    "\n",
    "# Lists to store results\n",
    "successful_downloads = []\n",
    "failed_downloads = []\n",
    "\n",
    "# Download images\n",
    "for url in image_urls:\n",
    "    try:\n",
    "        response = requests.get(url, timeout=10)\n",
    "        response.raise_for_status()\n",
    "        \n",
    "        # Extract filename from URL\n",
    "        filename = os.path.basename(urlparse(url).path)\n",
    "        if not filename:  # Fallback name if path is malformed\n",
    "            filename = f\"image_{len(successful_downloads)}.jpg\"\n",
    "        \n",
    "        # Save image\n",
    "        filepath = os.path.join(output_folder, filename)\n",
    "        with open(filepath, 'wb') as f:\n",
    "            f.write(response.content)\n",
    "        \n",
    "        successful_downloads.append(url)\n",
    "    except Exception as e:\n",
    "        failed_downloads.append(url)\n",
    "        print(f\"Failed to download {url}: {e}\")\n",
    "\n",
    "# Output the results\n",
    "print(\"Downloaded successfully:\")\n",
    "print(successful_downloads)\n",
    "print(\"\\nFailed to download:\")\n",
    "print(failed_downloads)"
   ]
  },
  {
   "cell_type": "code",
   "execution_count": 36,
   "id": "2f0a61c8",
   "metadata": {},
   "outputs": [
    {
     "name": "stdout",
     "output_type": "stream",
     "text": [
      "30\n",
      "4\n"
     ]
    }
   ],
   "source": [
    "print(len(successful_downloads))\n",
    "print(len(failed_downloads))"
   ]
  },
  {
   "cell_type": "code",
   "execution_count": 37,
   "id": "a7a20ba4",
   "metadata": {},
   "outputs": [
    {
     "data": {
      "text/plain": [
       "['https://cdli.ucla.edu/dl/photo/K08396.jpg',\n",
       " 'https://cdli.ucla.edu/dl/photo/ND02486.jpg',\n",
       " 'https://cdli.ucla.edu/dl/photo/K09237Vs.jpg',\n",
       " 'https://cdli.ucla.edu/dl/photo/BM099070.jpg']"
      ]
     },
     "execution_count": 37,
     "metadata": {},
     "output_type": "execute_result"
    }
   ],
   "source": [
    "failed_downloads"
   ]
  },
  {
   "cell_type": "markdown",
   "id": "50889c77",
   "metadata": {},
   "source": [
    "train images that doesnt exist\n",
    "P336663bK01057\n",
    "\n",
    "VAT08803Vs, VAT08803Rs, VAT10601, VAT10657, VAT11100Rs, VAT13604Vs, VAT13604Rs \n",
    "\n",
    "test images that doesnt exist\n",
    "K09237Vs\n",
    "\n",
    "K08396 - P394941 (good)\n",
    "ND02486 - P393688 (good)\n",
    "K09237Vs - P397986 (faulty segmentation, but right image)\n",
    "BM099070 - P336615 (good)\n",
    "\n",
    "38 correct train and 33 correct test images"
   ]
  }
 ],
 "metadata": {
  "kernelspec": {
   "display_name": "project123",
   "language": "python",
   "name": "python3"
  },
  "language_info": {
   "codemirror_mode": {
    "name": "ipython",
    "version": 3
   },
   "file_extension": ".py",
   "mimetype": "text/x-python",
   "name": "python",
   "nbconvert_exporter": "python",
   "pygments_lexer": "ipython3",
   "version": "3.12.3"
  }
 },
 "nbformat": 4,
 "nbformat_minor": 5
}
